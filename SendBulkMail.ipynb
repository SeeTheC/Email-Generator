{
 "cells": [
  {
   "cell_type": "code",
   "execution_count": 1,
   "metadata": {},
   "outputs": [],
   "source": [
    "import smtplib\n",
    "import random\n",
    "from email.message import EmailMessage\n",
    "# Config\n",
    "from_smtpserver_ip='10.100.115.209';\n",
    "fromDomain=\"mail2.cc.com\";\n",
    "toDomain=\"mail1.cc.com\";"
   ]
  },
  {
   "cell_type": "code",
   "execution_count": 2,
   "metadata": {},
   "outputs": [],
   "source": [
    "def sendmail(sender,rcpt,subject,body):\n",
    "    msg = EmailMessage()\n",
    "    msg.set_content(body);\n",
    "    msg['Subject'] = subject\n",
    "    msg['From'] = sender\n",
    "    msg['To'] = rcpt\n",
    "\n",
    "    # Send the message via our own SMTP server.\n",
    "    s = smtplib.SMTP(from_smtpserver_ip);\n",
    "    s.send_message(msg);\n",
    "    s.quit();"
   ]
  },
  {
   "cell_type": "code",
   "execution_count": 3,
   "metadata": {},
   "outputs": [],
   "source": [
    "def fetchFirstName():\n",
    "    name = []\n",
    "    with open(\"first-names.txt\") as file:\n",
    "        for line in file: \n",
    "            fn = line.strip(); #or some other preprocessing\n",
    "            name.append(fn); \n",
    "    return name;     "
   ]
  },
  {
   "cell_type": "code",
   "execution_count": 24,
   "metadata": {},
   "outputs": [],
   "source": [
    "def sendBulkMail(noOFMail,fromUser,toUser,subject,body):\n",
    "    noOfFromUser=len(fromUsers); \n",
    "    for i in range(1,noOFMail+1):\n",
    "        name=fromUsers[random.randint(1, noOfFromUser)];\n",
    "        fu=name+\"@\"+fromDomain;\n",
    "        sendmail(fu,toUser,subject,body + \"\\n\\n--\\nRegards,\\n\"+name);\n",
    "    print(\"Done. Sent \" + str(noOFMail)+\" to \" + toUser +\".\"  );\n",
    "        \n",
    "#default mail be will send to user1,user2,user3....user(maxToUser) equall        \n",
    "def sendBulkMailDiffUsers(noOFMailPerUser,fromUsers,maxToUser):          \n",
    "    tu=\"fmaster@\"+toDomain;\n",
    "    for u in range(1,maxToUser):                \n",
    "        sub=\"user\"+str(u);\n",
    "        body=\"This is the body for folder>user \" + str(u) + \". Always verify with the subject. \"; \n",
    "        print(\"Sending \"+str(noOFMailPerUser)+\"  mail to user\"+str(u)+\"...\");\n",
    "        sendBulkMail(noOFMailPerUser,fromUsers,tu,sub,body);  \n",
    "    "
   ]
  },
  {
   "cell_type": "code",
   "execution_count": 25,
   "metadata": {},
   "outputs": [
    {
     "name": "stdout",
     "output_type": "stream",
     "text": [
      "Sending 1  mail to user1...\n",
      "Done. Sent 1 to user1@mail1.cc.com.\n",
      "Sending 1  mail to user2...\n",
      "Done. Sent 1 to user2@mail1.cc.com.\n",
      "Sending 1  mail to user3...\n",
      "Done. Sent 1 to user3@mail1.cc.com.\n",
      "Sending 1  mail to user4...\n",
      "Done. Sent 1 to user4@mail1.cc.com.\n"
     ]
    }
   ],
   "source": [
    "fromUsers=fetchFirstName();\n",
    "#sendBulkMail(100,fromUsers,'fmaster@mail1.cc.com','filter1','aaa aaaa test sdsadsbody');\n",
    "sendBulkMailDiffUsers(1,fromUsers,5);"
   ]
  }
 ],
 "metadata": {
  "kernelspec": {
   "display_name": "Python 3",
   "language": "python",
   "name": "python3"
  },
  "language_info": {
   "codemirror_mode": {
    "name": "ipython",
    "version": 3
   },
   "file_extension": ".py",
   "mimetype": "text/x-python",
   "name": "python",
   "nbconvert_exporter": "python",
   "pygments_lexer": "ipython3",
   "version": "3.5.2"
  }
 },
 "nbformat": 4,
 "nbformat_minor": 2
}
